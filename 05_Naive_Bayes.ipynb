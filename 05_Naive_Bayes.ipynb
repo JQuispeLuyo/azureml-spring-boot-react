{
  "nbformat": 4,
  "nbformat_minor": 0,
  "metadata": {
    "kernelspec": {
      "display_name": "Python 3",
      "language": "python",
      "name": "python3"
    },
    "language_info": {
      "codemirror_mode": {
        "name": "ipython",
        "version": 3
      },
      "file_extension": ".py",
      "mimetype": "text/x-python",
      "name": "python",
      "nbconvert_exporter": "python",
      "pygments_lexer": "ipython3",
      "version": "3.7.6"
    },
    "colab": {
      "name": "05_Naive_Bayes.ipynb",
      "provenance": [],
      "collapsed_sections": [
        "KzHw7hon6w25"
      ]
    }
  },
  "cells": [
    {
      "cell_type": "markdown",
      "metadata": {
        "id": "7wd8JUc9DI5l",
        "colab_type": "text"
      },
      "source": [
        "# Naive Bayes"
      ]
    },
    {
      "cell_type": "markdown",
      "metadata": {
        "id": "WumvJnI8DI5n",
        "colab_type": "text"
      },
      "source": [
        "En teoría de la probabilidad y minería de datos, un clasificador Naive Bayes es un clasificador probabilístico fundamentado en el teorema de Bayes y algunas hipótesis simplificadoras adicionales.\n",
        "\n",
        "[Colab](https://drive.google.com/file/d/1tCGWhsdf2O4GlbAd5AoAvinq-YGjUdj9/view?usp=sharing)\n",
        "\n",
        "Importamos:\n",
        "\n",
        "    -panda: extensión de NumPy para manipulación y análisis de datos para el lenguaje de programación Python\n",
        "    -numpy: extensión de Python, que le agrega mayor soporte para vectores y matrices\n",
        "    -matplotlib.pyplot: es una colección de funciones que hacen que matplotlib funcione como MATLAB. Cada pyplotfunción realiza algún cambio en una figura\n",
        "    -seaborn: Proporciona una interfaz de alto nivel para dibujar gráficos estadísticos atractivos e informativos\n",
        "    -Scikit-learn es una biblioteca de software de aprendizaje automático para el lenguaje de programación Python"
      ]
    },
    {
      "cell_type": "markdown",
      "metadata": {
        "id": "Y5jKDIMjDI5n",
        "colab_type": "text"
      },
      "source": [
        "¿me conviene comprar casa ó alquilar?"
      ]
    },
    {
      "cell_type": "markdown",
      "metadata": {
        "id": "KzHw7hon6w25",
        "colab_type": "text"
      },
      "source": [
        "## Configuracion"
      ]
    },
    {
      "cell_type": "markdown",
      "metadata": {
        "id": "O2j3RIVvDI5o",
        "colab_type": "text"
      },
      "source": [
        "Instalamos anaconda [Desktop] \n",
        "\n",
        "-Proporciona una interfaz de alto nivel para dibujar gráficos estadísticos atractivos."
      ]
    },
    {
      "cell_type": "code",
      "metadata": {
        "id": "YghB22b7DI5q",
        "colab_type": "code",
        "colab": {
          "base_uri": "https://localhost:8080/",
          "height": 34
        },
        "outputId": "62378a47-05fb-4f25-b202-4e33e3852321"
      },
      "source": [
        "!conda install -c anaconda seaborn -y"
      ],
      "execution_count": null,
      "outputs": [
        {
          "output_type": "stream",
          "text": [
            "/bin/bash: conda: command not found\n"
          ],
          "name": "stdout"
        }
      ]
    },
    {
      "cell_type": "markdown",
      "metadata": {
        "id": "ZvQ_Kcg0qY2j",
        "colab_type": "text"
      },
      "source": [
        "## Ejemplo basico"
      ]
    },
    {
      "cell_type": "markdown",
      "metadata": {
        "id": "DFsKrgKrtKu3",
        "colab_type": "text"
      },
      "source": [
        "Creación de variables"
      ]
    },
    {
      "cell_type": "code",
      "metadata": {
        "id": "NZSDV4uPiMIg",
        "colab_type": "code",
        "colab": {}
      },
      "source": [
        "weather=['Sunny','Sunny','Overcast','Rainy','Rainy','Rainy','Overcast','Sunny','Sunny','Rainy','Sunny','Overcast','Overcast','Rainy']\n",
        "play=['No','No','Yes','Yes','Yes','No','Yes','No','Yes','Yes','Yes','Yes','Yes','No']"
      ],
      "execution_count": null,
      "outputs": []
    },
    {
      "cell_type": "markdown",
      "metadata": {
        "id": "CdreKz2mtP1w",
        "colab_type": "text"
      },
      "source": [
        "Importar libreria preprocessing, para tranformar los datos a numeros"
      ]
    },
    {
      "cell_type": "code",
      "metadata": {
        "id": "7_OA2kC-iTqK",
        "colab_type": "code",
        "colab": {}
      },
      "source": [
        "from sklearn import preprocessing\n",
        "\n",
        "#crear labelEncoder\n",
        "le = preprocessing.LabelEncoder()\n",
        "\n",
        "# Convertir string a numbers.\n",
        "weather_encoded = le.fit_transform(weather)"
      ],
      "execution_count": null,
      "outputs": []
    },
    {
      "cell_type": "markdown",
      "metadata": {
        "id": "Z8ahYcCytqL6",
        "colab_type": "text"
      },
      "source": [
        "Imprimimos lo que convertimos"
      ]
    },
    {
      "cell_type": "code",
      "metadata": {
        "id": "YoTmywTIiXOG",
        "colab_type": "code",
        "colab": {
          "base_uri": "https://localhost:8080/",
          "height": 51
        },
        "outputId": "49bce9b2-1185-4d97-b8e3-1455d34f3bb1"
      },
      "source": [
        "print(\"weather:\",weather_encoded)\n",
        "print(\"Play:   \",label)"
      ],
      "execution_count": null,
      "outputs": [
        {
          "output_type": "stream",
          "text": [
            "weather: [2 2 0 1 1 1 0 2 2 1 2 0 0 1]\n",
            "Play:    [0 0 1 1 1 0 1 0 1 1 1 1 1 0]\n"
          ],
          "name": "stdout"
        }
      ]
    },
    {
      "cell_type": "markdown",
      "metadata": {
        "id": "bijvvPR5tvvC",
        "colab_type": "text"
      },
      "source": [
        "Importamos e instanciamos la clase GaussianNB"
      ]
    },
    {
      "cell_type": "code",
      "metadata": {
        "id": "cJOt21c0lpBX",
        "colab_type": "code",
        "colab": {}
      },
      "source": [
        "#Import Gaussian Naive Bayes model\n",
        "from sklearn.naive_bayes import GaussianNB\n",
        "#Gaussian Classifier\n",
        "model = GaussianNB()"
      ],
      "execution_count": null,
      "outputs": []
    },
    {
      "cell_type": "markdown",
      "metadata": {
        "id": "uu9gDRdkt8oe",
        "colab_type": "text"
      },
      "source": [
        "Convertimos el array a matriz"
      ]
    },
    {
      "cell_type": "code",
      "metadata": {
        "id": "Snv9Wlegt9V9",
        "colab_type": "code",
        "colab": {
          "base_uri": "https://localhost:8080/",
          "height": 51
        },
        "outputId": "8b343e5f-1f36-42be-cf7e-4dcb5dc00fa5"
      },
      "source": [
        "weather_encoded_array = [[w] for w in weather_encoded]\n",
        "print(\"Temp:\",ca)\n",
        "print(\"Play:\",label)"
      ],
      "execution_count": null,
      "outputs": [
        {
          "output_type": "stream",
          "text": [
            "Temp: [[2], [2], [0], [1], [1], [1], [0], [2], [2], [1], [2], [0], [0], [1]]\n",
            "Play: [0 0 1 1 1 0 1 0 1 1 1 1 1 0]\n"
          ],
          "name": "stdout"
        }
      ]
    },
    {
      "cell_type": "markdown",
      "metadata": {
        "id": "Eq-4cidBuMzF",
        "colab_type": "text"
      },
      "source": [
        "Entrenamos y predecimos"
      ]
    },
    {
      "cell_type": "code",
      "metadata": {
        "id": "z_arF6K0uKKp",
        "colab_type": "code",
        "colab": {
          "base_uri": "https://localhost:8080/",
          "height": 34
        },
        "outputId": "4dfcb366-90dd-490d-db0e-8d313c6b2bc5"
      },
      "source": [
        "#entrenar\n",
        "model.fit(weather_encoded_array,label)\n",
        "\n",
        "#predecir\n",
        "predicted= model.predict([[2]]) \n",
        "# 2:Sunny -> valor esperado 0\n",
        "# 0:overcast -> valor esperado 1\n",
        "\n",
        "print(\"Predicted Value:\", predicted)"
      ],
      "execution_count": null,
      "outputs": [
        {
          "output_type": "stream",
          "text": [
            "Predicted Value: [0]\n"
          ],
          "name": "stdout"
        }
      ]
    },
    {
      "cell_type": "markdown",
      "metadata": {
        "id": "ifMdYWORDI5w",
        "colab_type": "text"
      },
      "source": [
        "## Importacion de librerias:\n",
        "\n",
        "    -panda: extensión de NumPy para manipulación y análisis de datos para el lenguaje de programación Python\n",
        "    -numpy: extensión de Python, que le agrega mayor soporte para vectores y matrices\n",
        "    -matplotlib.pyplot: es una colección de funciones que hacen que matplotlib funcione como MATLAB. Cada pyplotfunción realiza algún cambio en una figura\n",
        "    -seaborn: Proporciona una interfaz de alto nivel para dibujar gráficos estadísticos atractivos e informativos\n",
        "    -Scikit-learn es una biblioteca de software de aprendizaje automático para el lenguaje de programación Python"
      ]
    },
    {
      "cell_type": "code",
      "metadata": {
        "id": "DUtcCPk-DI5x",
        "colab_type": "code",
        "colab": {}
      },
      "source": [
        "import pandas as pd\n",
        "import numpy as np\n",
        "import matplotlib.pyplot as plt\n",
        "from matplotlib import colors\n",
        "import seaborn as sb\n",
        "\n",
        "%matplotlib inline\n",
        "plt.rcParams['figure.figsize'] = (16, 9)\n",
        "plt.style.use('ggplot')\n",
        "\n",
        "## Para trozar la data para la prueba y entrenamiento\n",
        "from sklearn.model_selection import train_test_split\n",
        "from sklearn.metrics import classification_report\n",
        "## matriz de confucion\n",
        "from sklearn.metrics import confusion_matrix\n",
        "## Clase de clasificacion para naive bayes\n",
        "from sklearn.naive_bayes import GaussianNB\n",
        "## sacar mejores datos\n",
        "from sklearn.feature_selection import SelectKBest"
      ],
      "execution_count": null,
      "outputs": []
    },
    {
      "cell_type": "markdown",
      "metadata": {
        "id": "BOhEDOfKDI53",
        "colab_type": "text"
      },
      "source": [
        "## Importacio de CSV\n",
        "\n",
        "> REFERENCIAS:\n",
        "\n",
        "- Ingresos y gastos son mensuales de 1 personas o 2 si están casados.\n",
        "- trabajo: \n",
        "  - 0-Sin trabajo \n",
        "  - 1-Autonomo \n",
        "  - 2-Asalariado \n",
        "  - 3-Empresario \n",
        "  - 4-Autonomos \n",
        "  - 5-Asalariados \n",
        "  - 6-Autonomo y Asalariado \n",
        "  - 7-Empresario y Autonomo \n",
        "  - 8 Empresarios o empresario y autónomo\n",
        "- Estado_civil: \n",
        "  - 0-soltero \n",
        "  - 1-casado \n",
        "  - 2-divorciado\n",
        "- Hijos: Cantidad de hijos\n",
        "- **Comprar:**\n",
        "  - 0-Alquilar \n",
        "  - 1-Comprar casa\n",
        "- Hipoteca fija a 30 años con interes"
      ]
    },
    {
      "cell_type": "markdown",
      "metadata": {
        "id": "YmHKr49I7GuB",
        "colab_type": "text"
      },
      "source": [
        "Descargamos el csv y visualizamos 10 datos"
      ]
    },
    {
      "cell_type": "code",
      "metadata": {
        "id": "JWAMcazPDI54",
        "colab_type": "code",
        "colab": {
          "base_uri": "https://localhost:8080/",
          "height": 546
        },
        "outputId": "0af7bc1d-2d20-43e2-b651-cd0dbf57c52d"
      },
      "source": [
        "!wget https://www.aprendemachinelearning.com/wp-content/uploads/2018/08/comprar_alquilar.csv\n",
        "dataframe = pd.read_csv(r'comprar_alquilar.csv')\n",
        "dataframe.head(10)"
      ],
      "execution_count": null,
      "outputs": [
        {
          "output_type": "stream",
          "text": [
            "--2020-08-05 08:33:38--  https://www.aprendemachinelearning.com/wp-content/uploads/2018/08/comprar_alquilar.csv\n",
            "Resolving www.aprendemachinelearning.com (www.aprendemachinelearning.com)... 104.27.135.216, 172.67.153.167, 104.27.134.216\n",
            "Connecting to www.aprendemachinelearning.com (www.aprendemachinelearning.com)|104.27.135.216|:443... connected.\n",
            "HTTP request sent, awaiting response... 200 OK\n",
            "Length: 8014 (7.8K) [text/csv]\n",
            "Saving to: ‘comprar_alquilar.csv.3’\n",
            "\n",
            "\rcomprar_alquilar.cs   0%[                    ]       0  --.-KB/s               \rcomprar_alquilar.cs 100%[===================>]   7.83K  --.-KB/s    in 0s      \n",
            "\n",
            "2020-08-05 08:33:39 (25.6 MB/s) - ‘comprar_alquilar.csv.3’ saved [8014/8014]\n",
            "\n"
          ],
          "name": "stdout"
        },
        {
          "output_type": "execute_result",
          "data": {
            "text/html": [
              "<div>\n",
              "<style scoped>\n",
              "    .dataframe tbody tr th:only-of-type {\n",
              "        vertical-align: middle;\n",
              "    }\n",
              "\n",
              "    .dataframe tbody tr th {\n",
              "        vertical-align: top;\n",
              "    }\n",
              "\n",
              "    .dataframe thead th {\n",
              "        text-align: right;\n",
              "    }\n",
              "</style>\n",
              "<table border=\"1\" class=\"dataframe\">\n",
              "  <thead>\n",
              "    <tr style=\"text-align: right;\">\n",
              "      <th></th>\n",
              "      <th>ingresos</th>\n",
              "      <th>gastos_comunes</th>\n",
              "      <th>pago_coche</th>\n",
              "      <th>gastos_otros</th>\n",
              "      <th>ahorros</th>\n",
              "      <th>vivienda</th>\n",
              "      <th>estado_civil</th>\n",
              "      <th>hijos</th>\n",
              "      <th>trabajo</th>\n",
              "      <th>comprar</th>\n",
              "    </tr>\n",
              "  </thead>\n",
              "  <tbody>\n",
              "    <tr>\n",
              "      <th>0</th>\n",
              "      <td>6000</td>\n",
              "      <td>1000</td>\n",
              "      <td>0</td>\n",
              "      <td>600</td>\n",
              "      <td>50000</td>\n",
              "      <td>400000</td>\n",
              "      <td>0</td>\n",
              "      <td>2</td>\n",
              "      <td>2</td>\n",
              "      <td>1</td>\n",
              "    </tr>\n",
              "    <tr>\n",
              "      <th>1</th>\n",
              "      <td>6745</td>\n",
              "      <td>944</td>\n",
              "      <td>123</td>\n",
              "      <td>429</td>\n",
              "      <td>43240</td>\n",
              "      <td>636897</td>\n",
              "      <td>1</td>\n",
              "      <td>3</td>\n",
              "      <td>6</td>\n",
              "      <td>0</td>\n",
              "    </tr>\n",
              "    <tr>\n",
              "      <th>2</th>\n",
              "      <td>6455</td>\n",
              "      <td>1033</td>\n",
              "      <td>98</td>\n",
              "      <td>795</td>\n",
              "      <td>57463</td>\n",
              "      <td>321779</td>\n",
              "      <td>2</td>\n",
              "      <td>1</td>\n",
              "      <td>8</td>\n",
              "      <td>1</td>\n",
              "    </tr>\n",
              "    <tr>\n",
              "      <th>3</th>\n",
              "      <td>7098</td>\n",
              "      <td>1278</td>\n",
              "      <td>15</td>\n",
              "      <td>254</td>\n",
              "      <td>54506</td>\n",
              "      <td>660933</td>\n",
              "      <td>0</td>\n",
              "      <td>0</td>\n",
              "      <td>3</td>\n",
              "      <td>0</td>\n",
              "    </tr>\n",
              "    <tr>\n",
              "      <th>4</th>\n",
              "      <td>6167</td>\n",
              "      <td>863</td>\n",
              "      <td>223</td>\n",
              "      <td>520</td>\n",
              "      <td>41512</td>\n",
              "      <td>348932</td>\n",
              "      <td>0</td>\n",
              "      <td>0</td>\n",
              "      <td>3</td>\n",
              "      <td>1</td>\n",
              "    </tr>\n",
              "    <tr>\n",
              "      <th>5</th>\n",
              "      <td>5692</td>\n",
              "      <td>911</td>\n",
              "      <td>11</td>\n",
              "      <td>325</td>\n",
              "      <td>50875</td>\n",
              "      <td>360863</td>\n",
              "      <td>1</td>\n",
              "      <td>4</td>\n",
              "      <td>5</td>\n",
              "      <td>1</td>\n",
              "    </tr>\n",
              "    <tr>\n",
              "      <th>6</th>\n",
              "      <td>6830</td>\n",
              "      <td>1298</td>\n",
              "      <td>345</td>\n",
              "      <td>309</td>\n",
              "      <td>46761</td>\n",
              "      <td>429812</td>\n",
              "      <td>1</td>\n",
              "      <td>1</td>\n",
              "      <td>5</td>\n",
              "      <td>1</td>\n",
              "    </tr>\n",
              "    <tr>\n",
              "      <th>7</th>\n",
              "      <td>6470</td>\n",
              "      <td>1035</td>\n",
              "      <td>39</td>\n",
              "      <td>782</td>\n",
              "      <td>57439</td>\n",
              "      <td>606291</td>\n",
              "      <td>0</td>\n",
              "      <td>0</td>\n",
              "      <td>1</td>\n",
              "      <td>0</td>\n",
              "    </tr>\n",
              "    <tr>\n",
              "      <th>8</th>\n",
              "      <td>6251</td>\n",
              "      <td>1250</td>\n",
              "      <td>209</td>\n",
              "      <td>571</td>\n",
              "      <td>50503</td>\n",
              "      <td>291010</td>\n",
              "      <td>0</td>\n",
              "      <td>0</td>\n",
              "      <td>3</td>\n",
              "      <td>1</td>\n",
              "    </tr>\n",
              "    <tr>\n",
              "      <th>9</th>\n",
              "      <td>6987</td>\n",
              "      <td>1258</td>\n",
              "      <td>252</td>\n",
              "      <td>245</td>\n",
              "      <td>40611</td>\n",
              "      <td>324098</td>\n",
              "      <td>2</td>\n",
              "      <td>1</td>\n",
              "      <td>7</td>\n",
              "      <td>1</td>\n",
              "    </tr>\n",
              "  </tbody>\n",
              "</table>\n",
              "</div>"
            ],
            "text/plain": [
              "   ingresos  gastos_comunes  pago_coche  ...  hijos  trabajo  comprar\n",
              "0      6000            1000           0  ...      2        2        1\n",
              "1      6745             944         123  ...      3        6        0\n",
              "2      6455            1033          98  ...      1        8        1\n",
              "3      7098            1278          15  ...      0        3        0\n",
              "4      6167             863         223  ...      0        3        1\n",
              "5      5692             911          11  ...      4        5        1\n",
              "6      6830            1298         345  ...      1        5        1\n",
              "7      6470            1035          39  ...      0        1        0\n",
              "8      6251            1250         209  ...      0        3        1\n",
              "9      6987            1258         252  ...      1        7        1\n",
              "\n",
              "[10 rows x 10 columns]"
            ]
          },
          "metadata": {
            "tags": []
          },
          "execution_count": 141
        }
      ]
    },
    {
      "cell_type": "markdown",
      "metadata": {
        "id": "Azy_Ht_qsXGh",
        "colab_type": "text"
      },
      "source": [
        "## Explorando y editando datos"
      ]
    },
    {
      "cell_type": "markdown",
      "metadata": {
        "id": "-dWA4qQaDI59",
        "colab_type": "text"
      },
      "source": [
        "Cantidad de muestras de comprar o alquilar:"
      ]
    },
    {
      "cell_type": "code",
      "metadata": {
        "id": "_7yaVKNJDI5-",
        "colab_type": "code",
        "colab": {
          "base_uri": "https://localhost:8080/",
          "height": 85
        },
        "outputId": "9bb1380a-d840-4194-bbf7-692ff15ad772"
      },
      "source": [
        "print(dataframe.groupby('comprar').size())"
      ],
      "execution_count": null,
      "outputs": [
        {
          "output_type": "stream",
          "text": [
            "comprar\n",
            "0    135\n",
            "1     67\n",
            "dtype: int64\n"
          ],
          "name": "stdout"
        }
      ]
    },
    {
      "cell_type": "markdown",
      "metadata": {
        "id": "J89XIQtHDI6G",
        "colab_type": "text"
      },
      "source": [
        "Histograma de las características quitando la columna de resultados (comprar):"
      ]
    },
    {
      "cell_type": "code",
      "metadata": {
        "id": "gCJynm06DI6G",
        "colab_type": "code",
        "colab": {}
      },
      "source": [
        "dataframe.drop(['comprar'], axis=1).hist()\n",
        "plt.show()"
      ],
      "execution_count": null,
      "outputs": []
    },
    {
      "cell_type": "markdown",
      "metadata": {
        "id": "TXMwLz1rDI6P",
        "colab_type": "text"
      },
      "source": [
        "Crear dos columnas columnas:\n",
        "- gastos: Agrupar los diversos que se tengan\n",
        "- financiar: Resta del precio de la vivienda con los ahorros."
      ]
    },
    {
      "cell_type": "code",
      "metadata": {
        "id": "AoeqAmN7DI6R",
        "colab_type": "code",
        "colab": {
          "base_uri": "https://localhost:8080/",
          "height": 359
        },
        "outputId": "da7cf892-8efe-46a0-bcc3-3a3ddd321ffc"
      },
      "source": [
        "dataframe['gastos']=(dataframe['gastos_comunes']+dataframe['gastos_otros']+dataframe['pago_coche'])\n",
        "\n",
        "dataframe['financiar']=dataframe['vivienda']-dataframe['ahorros']\n",
        "\n",
        "## Quitamos los gastos, ya que lo tenemos calculado en la columna gastos\n",
        "dataframe.drop(['gastos_comunes','gastos_otros','pago_coche'], axis=1).head(10)"
      ],
      "execution_count": null,
      "outputs": [
        {
          "output_type": "execute_result",
          "data": {
            "text/html": [
              "<div>\n",
              "<style scoped>\n",
              "    .dataframe tbody tr th:only-of-type {\n",
              "        vertical-align: middle;\n",
              "    }\n",
              "\n",
              "    .dataframe tbody tr th {\n",
              "        vertical-align: top;\n",
              "    }\n",
              "\n",
              "    .dataframe thead th {\n",
              "        text-align: right;\n",
              "    }\n",
              "</style>\n",
              "<table border=\"1\" class=\"dataframe\">\n",
              "  <thead>\n",
              "    <tr style=\"text-align: right;\">\n",
              "      <th></th>\n",
              "      <th>ingresos</th>\n",
              "      <th>ahorros</th>\n",
              "      <th>vivienda</th>\n",
              "      <th>estado_civil</th>\n",
              "      <th>hijos</th>\n",
              "      <th>trabajo</th>\n",
              "      <th>comprar</th>\n",
              "      <th>gastos</th>\n",
              "      <th>financiar</th>\n",
              "    </tr>\n",
              "  </thead>\n",
              "  <tbody>\n",
              "    <tr>\n",
              "      <th>0</th>\n",
              "      <td>6000</td>\n",
              "      <td>50000</td>\n",
              "      <td>400000</td>\n",
              "      <td>0</td>\n",
              "      <td>2</td>\n",
              "      <td>2</td>\n",
              "      <td>1</td>\n",
              "      <td>1600</td>\n",
              "      <td>350000</td>\n",
              "    </tr>\n",
              "    <tr>\n",
              "      <th>1</th>\n",
              "      <td>6745</td>\n",
              "      <td>43240</td>\n",
              "      <td>636897</td>\n",
              "      <td>1</td>\n",
              "      <td>3</td>\n",
              "      <td>6</td>\n",
              "      <td>0</td>\n",
              "      <td>1496</td>\n",
              "      <td>593657</td>\n",
              "    </tr>\n",
              "    <tr>\n",
              "      <th>2</th>\n",
              "      <td>6455</td>\n",
              "      <td>57463</td>\n",
              "      <td>321779</td>\n",
              "      <td>2</td>\n",
              "      <td>1</td>\n",
              "      <td>8</td>\n",
              "      <td>1</td>\n",
              "      <td>1926</td>\n",
              "      <td>264316</td>\n",
              "    </tr>\n",
              "    <tr>\n",
              "      <th>3</th>\n",
              "      <td>7098</td>\n",
              "      <td>54506</td>\n",
              "      <td>660933</td>\n",
              "      <td>0</td>\n",
              "      <td>0</td>\n",
              "      <td>3</td>\n",
              "      <td>0</td>\n",
              "      <td>1547</td>\n",
              "      <td>606427</td>\n",
              "    </tr>\n",
              "    <tr>\n",
              "      <th>4</th>\n",
              "      <td>6167</td>\n",
              "      <td>41512</td>\n",
              "      <td>348932</td>\n",
              "      <td>0</td>\n",
              "      <td>0</td>\n",
              "      <td>3</td>\n",
              "      <td>1</td>\n",
              "      <td>1606</td>\n",
              "      <td>307420</td>\n",
              "    </tr>\n",
              "    <tr>\n",
              "      <th>5</th>\n",
              "      <td>5692</td>\n",
              "      <td>50875</td>\n",
              "      <td>360863</td>\n",
              "      <td>1</td>\n",
              "      <td>4</td>\n",
              "      <td>5</td>\n",
              "      <td>1</td>\n",
              "      <td>1247</td>\n",
              "      <td>309988</td>\n",
              "    </tr>\n",
              "    <tr>\n",
              "      <th>6</th>\n",
              "      <td>6830</td>\n",
              "      <td>46761</td>\n",
              "      <td>429812</td>\n",
              "      <td>1</td>\n",
              "      <td>1</td>\n",
              "      <td>5</td>\n",
              "      <td>1</td>\n",
              "      <td>1952</td>\n",
              "      <td>383051</td>\n",
              "    </tr>\n",
              "    <tr>\n",
              "      <th>7</th>\n",
              "      <td>6470</td>\n",
              "      <td>57439</td>\n",
              "      <td>606291</td>\n",
              "      <td>0</td>\n",
              "      <td>0</td>\n",
              "      <td>1</td>\n",
              "      <td>0</td>\n",
              "      <td>1856</td>\n",
              "      <td>548852</td>\n",
              "    </tr>\n",
              "    <tr>\n",
              "      <th>8</th>\n",
              "      <td>6251</td>\n",
              "      <td>50503</td>\n",
              "      <td>291010</td>\n",
              "      <td>0</td>\n",
              "      <td>0</td>\n",
              "      <td>3</td>\n",
              "      <td>1</td>\n",
              "      <td>2030</td>\n",
              "      <td>240507</td>\n",
              "    </tr>\n",
              "    <tr>\n",
              "      <th>9</th>\n",
              "      <td>6987</td>\n",
              "      <td>40611</td>\n",
              "      <td>324098</td>\n",
              "      <td>2</td>\n",
              "      <td>1</td>\n",
              "      <td>7</td>\n",
              "      <td>1</td>\n",
              "      <td>1755</td>\n",
              "      <td>283487</td>\n",
              "    </tr>\n",
              "  </tbody>\n",
              "</table>\n",
              "</div>"
            ],
            "text/plain": [
              "   ingresos  ahorros  vivienda  ...  comprar  gastos  financiar\n",
              "0      6000    50000    400000  ...        1    1600     350000\n",
              "1      6745    43240    636897  ...        0    1496     593657\n",
              "2      6455    57463    321779  ...        1    1926     264316\n",
              "3      7098    54506    660933  ...        0    1547     606427\n",
              "4      6167    41512    348932  ...        1    1606     307420\n",
              "5      5692    50875    360863  ...        1    1247     309988\n",
              "6      6830    46761    429812  ...        1    1952     383051\n",
              "7      6470    57439    606291  ...        0    1856     548852\n",
              "8      6251    50503    291010  ...        1    2030     240507\n",
              "9      6987    40611    324098  ...        1    1755     283487\n",
              "\n",
              "[10 rows x 9 columns]"
            ]
          },
          "metadata": {
            "tags": []
          },
          "execution_count": 144
        }
      ]
    },
    {
      "cell_type": "markdown",
      "metadata": {
        "id": "lSVJcr7MDI6Y",
        "colab_type": "text"
      },
      "source": [
        "Resumen estadístico que nos brinda la librería Pandas con describe():"
      ]
    },
    {
      "cell_type": "code",
      "metadata": {
        "id": "m5tOmjecDI6Y",
        "colab_type": "code",
        "colab": {
          "base_uri": "https://localhost:8080/",
          "height": 297
        },
        "outputId": "13d45d02-d634-454e-9bea-57294ce09123"
      },
      "source": [
        "reduced = dataframe.drop(['gastos_comunes','gastos_otros','pago_coche'], axis=1)\n",
        "reduced.describe()"
      ],
      "execution_count": null,
      "outputs": [
        {
          "output_type": "execute_result",
          "data": {
            "text/html": [
              "<div>\n",
              "<style scoped>\n",
              "    .dataframe tbody tr th:only-of-type {\n",
              "        vertical-align: middle;\n",
              "    }\n",
              "\n",
              "    .dataframe tbody tr th {\n",
              "        vertical-align: top;\n",
              "    }\n",
              "\n",
              "    .dataframe thead th {\n",
              "        text-align: right;\n",
              "    }\n",
              "</style>\n",
              "<table border=\"1\" class=\"dataframe\">\n",
              "  <thead>\n",
              "    <tr style=\"text-align: right;\">\n",
              "      <th></th>\n",
              "      <th>ingresos</th>\n",
              "      <th>ahorros</th>\n",
              "      <th>vivienda</th>\n",
              "      <th>estado_civil</th>\n",
              "      <th>hijos</th>\n",
              "      <th>trabajo</th>\n",
              "      <th>comprar</th>\n",
              "      <th>gastos</th>\n",
              "      <th>financiar</th>\n",
              "    </tr>\n",
              "  </thead>\n",
              "  <tbody>\n",
              "    <tr>\n",
              "      <th>count</th>\n",
              "      <td>202.000000</td>\n",
              "      <td>202.000000</td>\n",
              "      <td>202.000000</td>\n",
              "      <td>202.000000</td>\n",
              "      <td>202.000000</td>\n",
              "      <td>202.000000</td>\n",
              "      <td>202.000000</td>\n",
              "      <td>202.000000</td>\n",
              "      <td>202.000000</td>\n",
              "    </tr>\n",
              "    <tr>\n",
              "      <th>mean</th>\n",
              "      <td>4958.995050</td>\n",
              "      <td>38749.668317</td>\n",
              "      <td>373349.638614</td>\n",
              "      <td>1.024752</td>\n",
              "      <td>1.232673</td>\n",
              "      <td>4.490099</td>\n",
              "      <td>0.331683</td>\n",
              "      <td>1698.752475</td>\n",
              "      <td>334599.970297</td>\n",
              "    </tr>\n",
              "    <tr>\n",
              "      <th>std</th>\n",
              "      <td>1682.862556</td>\n",
              "      <td>17365.231870</td>\n",
              "      <td>136371.525622</td>\n",
              "      <td>0.837184</td>\n",
              "      <td>1.367833</td>\n",
              "      <td>2.535794</td>\n",
              "      <td>0.471988</td>\n",
              "      <td>324.838005</td>\n",
              "      <td>126607.099497</td>\n",
              "    </tr>\n",
              "    <tr>\n",
              "      <th>min</th>\n",
              "      <td>2008.000000</td>\n",
              "      <td>10319.000000</td>\n",
              "      <td>176553.000000</td>\n",
              "      <td>0.000000</td>\n",
              "      <td>0.000000</td>\n",
              "      <td>0.000000</td>\n",
              "      <td>0.000000</td>\n",
              "      <td>1007.000000</td>\n",
              "      <td>154716.000000</td>\n",
              "    </tr>\n",
              "    <tr>\n",
              "      <th>25%</th>\n",
              "      <td>3513.750000</td>\n",
              "      <td>24964.250000</td>\n",
              "      <td>274810.000000</td>\n",
              "      <td>0.000000</td>\n",
              "      <td>0.000000</td>\n",
              "      <td>2.000000</td>\n",
              "      <td>0.000000</td>\n",
              "      <td>1430.500000</td>\n",
              "      <td>240410.250000</td>\n",
              "    </tr>\n",
              "    <tr>\n",
              "      <th>50%</th>\n",
              "      <td>4947.500000</td>\n",
              "      <td>38523.000000</td>\n",
              "      <td>340783.500000</td>\n",
              "      <td>1.000000</td>\n",
              "      <td>1.000000</td>\n",
              "      <td>5.000000</td>\n",
              "      <td>0.000000</td>\n",
              "      <td>1669.500000</td>\n",
              "      <td>301177.000000</td>\n",
              "    </tr>\n",
              "    <tr>\n",
              "      <th>75%</th>\n",
              "      <td>6374.500000</td>\n",
              "      <td>52150.750000</td>\n",
              "      <td>444482.000000</td>\n",
              "      <td>2.000000</td>\n",
              "      <td>2.000000</td>\n",
              "      <td>7.000000</td>\n",
              "      <td>1.000000</td>\n",
              "      <td>1928.000000</td>\n",
              "      <td>393413.000000</td>\n",
              "    </tr>\n",
              "    <tr>\n",
              "      <th>max</th>\n",
              "      <td>7984.000000</td>\n",
              "      <td>69934.000000</td>\n",
              "      <td>669540.000000</td>\n",
              "      <td>2.000000</td>\n",
              "      <td>4.000000</td>\n",
              "      <td>8.000000</td>\n",
              "      <td>1.000000</td>\n",
              "      <td>2543.000000</td>\n",
              "      <td>618621.000000</td>\n",
              "    </tr>\n",
              "  </tbody>\n",
              "</table>\n",
              "</div>"
            ],
            "text/plain": [
              "          ingresos       ahorros  ...       gastos      financiar\n",
              "count   202.000000    202.000000  ...   202.000000     202.000000\n",
              "mean   4958.995050  38749.668317  ...  1698.752475  334599.970297\n",
              "std    1682.862556  17365.231870  ...   324.838005  126607.099497\n",
              "min    2008.000000  10319.000000  ...  1007.000000  154716.000000\n",
              "25%    3513.750000  24964.250000  ...  1430.500000  240410.250000\n",
              "50%    4947.500000  38523.000000  ...  1669.500000  301177.000000\n",
              "75%    6374.500000  52150.750000  ...  1928.000000  393413.000000\n",
              "max    7984.000000  69934.000000  ...  2543.000000  618621.000000\n",
              "\n",
              "[8 rows x 9 columns]"
            ]
          },
          "metadata": {
            "tags": []
          },
          "execution_count": 145
        }
      ]
    },
    {
      "cell_type": "markdown",
      "metadata": {
        "id": "kmv3F4pgDI6c",
        "colab_type": "text"
      },
      "source": [
        "Selecionamos las 5 mejores columnas (sus indices) de los datos que tenemos, con la Clase de SkLearn llamada SelectKBest [Referencia](https://scikit-learn.org/stable/modules/generated/sklearn.feature_selection.SelectKBest.html)"
      ]
    },
    {
      "cell_type": "code",
      "metadata": {
        "id": "QBMiuxRqDI6e",
        "colab_type": "code",
        "colab": {
          "base_uri": "https://localhost:8080/",
          "height": 34
        },
        "outputId": "a28c62bb-9ef9-4663-adea-933e754992d3"
      },
      "source": [
        "X=dataframe.drop(['comprar'], axis=1)\n",
        "y=dataframe['comprar']\n",
        "\n",
        "best=SelectKBest(k=5)\n",
        "X_new = best.fit_transform(X, y)\n",
        "X_new.shape\n",
        "selected = best.get_support(indices=True)\n",
        "\n",
        "## lo guardamos en una variable\n",
        "used_features =X.columns[selected]\n",
        "\n",
        "print(used_features)"
      ],
      "execution_count": null,
      "outputs": [
        {
          "output_type": "stream",
          "text": [
            "Index(['ingresos', 'ahorros', 'hijos', 'trabajo', 'financiar'], dtype='object')\n"
          ],
          "name": "stdout"
        }
      ]
    },
    {
      "cell_type": "markdown",
      "metadata": {
        "id": "J_HYupT3DI6v",
        "colab_type": "text"
      },
      "source": [
        "## Crear el modelo Gaussian Naive Bayes con SKLearn"
      ]
    },
    {
      "cell_type": "markdown",
      "metadata": {
        "id": "smwU5dAYDI6y",
        "colab_type": "text"
      },
      "source": [
        "-Primero vamos a dividir nuestros datos de entrada en entrenamiento y test."
      ]
    },
    {
      "cell_type": "code",
      "metadata": {
        "id": "pqLGlbBYDI6z",
        "colab_type": "code",
        "colab": {}
      },
      "source": [
        "# Split dataset in training and test datasets\n",
        "X_train, X_test = train_test_split(dataframe, test_size=0.2, random_state=6) \n",
        "y_train =X_train[\"comprar\"]\n",
        "y_test = X_test[\"comprar\"]"
      ],
      "execution_count": null,
      "outputs": []
    },
    {
      "cell_type": "markdown",
      "metadata": {
        "id": "bROlp6bHDI63",
        "colab_type": "text"
      },
      "source": [
        "Y creamos el modelo, lo ponemos a aprender con fit() y obtenemos predicciones sobre nuestro conjunto de test."
      ]
    },
    {
      "cell_type": "code",
      "metadata": {
        "id": "JQGGtep5DI64",
        "colab_type": "code",
        "colab": {
          "base_uri": "https://localhost:8080/",
          "height": 51
        },
        "outputId": "2213ab51-ee33-4bb4-d981-145065f1ff02"
      },
      "source": [
        "# Instantiate the classifier\n",
        "gnb = GaussianNB()\n",
        "# Train classifier\n",
        "gnb.fit(\n",
        "    X_train[used_features].values,\n",
        "    y_train\n",
        ")\n",
        "#y_pred = gnb.predict(X_test[used_features])\n",
        "\n",
        "print('Precisión en el set de Entrenamiento: {:.2f}'\n",
        "     .format(gnb.score(X_train[used_features], y_train)))\n",
        "print('Precisión en el set de Test: {:.2f}'\n",
        "     .format(gnb.score(X_test[used_features], y_test)))"
      ],
      "execution_count": null,
      "outputs": [
        {
          "output_type": "stream",
          "text": [
            "Precisión en el set de Entrenamiento: 0.87\n",
            "Precisión en el set de Test: 0.90\n"
          ],
          "name": "stdout"
        }
      ]
    },
    {
      "cell_type": "markdown",
      "metadata": {
        "id": "wW0gvCWLDI6-",
        "colab_type": "text"
      },
      "source": [
        "## Probemos el modelo: ¿Comprar o Alquilar?"
      ]
    },
    {
      "cell_type": "markdown",
      "metadata": {
        "id": "x6GqUSQ-DI6_",
        "colab_type": "raw"
      },
      "source": [
        "Ahora, hagamos 2 predicciones para probar nuestra máquina:\n",
        "\n",
        "    -En un caso será una familia sin hijos con 2.000€ de ingresos que quiere comprar una casa de 200.000€ y tiene sólo 5.000€ ahorrados.\n",
        "    -El otro será una familia con 2 hijos con ingresos por 6.000€ al mes, 34.000 en ahorros y consultan si comprar una casa de 320.000€."
      ]
    },
    {
      "cell_type": "code",
      "metadata": {
        "id": "YMTvxJ7ODI6_",
        "colab_type": "code",
        "colab": {
          "base_uri": "https://localhost:8080/",
          "height": 34
        },
        "outputId": "e6fb540e-a149-4ac3-9821-2e31986cd5a2"
      },
      "source": [
        "#                 ['ingresos', 'ahorros', 'hijos', 'trabajo', 'financiar']\n",
        "print(gnb.predict([[2000,        5000,     0,       5,         200000],\n",
        "                   [6000,        34000,    2,       5,         320000] ]))\n",
        "#Resultado esperado 0-Alquilar, 1-Comprar casa"
      ],
      "execution_count": null,
      "outputs": [
        {
          "output_type": "stream",
          "text": [
            "[0 1]\n"
          ],
          "name": "stdout"
        }
      ]
    },
    {
      "cell_type": "markdown",
      "metadata": {
        "id": "2nvc2Pe-vP4o",
        "colab_type": "text"
      },
      "source": [
        "Matriz de confusión"
      ]
    },
    {
      "cell_type": "code",
      "metadata": {
        "id": "IVtlGeBCvSJN",
        "colab_type": "code",
        "colab": {
          "base_uri": "https://localhost:8080/",
          "height": 51
        },
        "outputId": "3cc38fcc-d02d-4f9d-c93a-70759a7c35ba"
      },
      "source": [
        "print(confusion_matrix(y_test, y_pred))"
      ],
      "execution_count": null,
      "outputs": [
        {
          "output_type": "stream",
          "text": [
            "[[24  0]\n",
            " [ 4 13]]\n"
          ],
          "name": "stdout"
        }
      ]
    },
    {
      "cell_type": "code",
      "metadata": {
        "id": "6DKFoQShwp_0",
        "colab_type": "code",
        "colab": {}
      },
      "source": [
        "print(classification_report(y_test, y_pred))\n",
        "# Print Test results\n",
        "print(\"Total de Muestras en Test: {}\\nFallos: {}\"\n",
        "      .format(\n",
        "          X_test.shape[0],\n",
        "          (y_test != y_pred).sum()\n",
        "))"
      ],
      "execution_count": null,
      "outputs": []
    }
  ]
}